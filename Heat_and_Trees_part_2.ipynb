{
 "cells": [
  {
   "cell_type": "markdown",
   "metadata": {},
   "source": [
    "## Panel - Interacting with the visual\n",
    "\n",
    "In the [previous notebook](Heat_and_Trees_part_1.ipynb) we generated a visual of the thresholded surface temperature over Philadelphia. This plot is rendered with bokeh and uses a running python kernel to resample the data when zooming in and out. But what if we want to allow the user to set their own threshold. To enable this kind of interactivity we'll use [panel](https://panel.pyviz.org)."
   ]
  },
  {
   "cell_type": "code",
   "execution_count": null,
   "metadata": {},
   "outputs": [],
   "source": [
    "import intake\n",
    "import geopandas as gpd\n",
    "\n",
    "import holoviews as hv\n",
    "from holoviews import opts\n",
    "import hvplot.xarray\n",
    "import hvplot.pandas\n",
    "\n",
    "import panel as pn\n",
    "\n",
    "from geoviews.tile_sources import EsriImagery\n",
    "\n",
    "hv.extension('bokeh')"
   ]
  },
  {
   "cell_type": "markdown",
   "metadata": {},
   "source": [
    "### Load the data\n",
    "\n",
    "First load in the data that we computed and saved in the previous notebook. We'll persist it in memory for easy access."
   ]
  },
  {
   "cell_type": "code",
   "execution_count": null,
   "metadata": {},
   "outputs": [],
   "source": [
    "mtf_source = intake.open_zarr('data/mean_temp.zarr')\n",
    "mean_temp_f = mtf_source.to_dask()\n",
    "mean_temp_f.persist()"
   ]
  },
  {
   "cell_type": "markdown",
   "metadata": {},
   "source": [
    "Make the same special colormap:"
   ]
  },
  {
   "cell_type": "code",
   "execution_count": null,
   "metadata": {},
   "outputs": [],
   "source": [
    "import colorcet as cc\n",
    "special_cmap = cc.fire[::-1][90:]"
   ]
  },
  {
   "cell_type": "markdown",
   "metadata": {},
   "source": [
    "### Use panel.interact\n",
    "\n",
    "Write a function that generates the thresholded plot and takes the temperature at which to threshold as an argument. Use the `pn.interact` decorator to \"widgetize\" the function. "
   ]
  },
  {
   "cell_type": "code",
   "execution_count": null,
   "metadata": {},
   "outputs": [],
   "source": [
    "@pn.interact(thresh=(70, 100))\n",
    "def threshold(thresh=90):\n",
    "    thresholded_temp_p = (mean_temp_f.where(mean_temp_f > thresh)\n",
    "        .hvplot(x='x', y='y', cmap=special_cmap, crs=crs, height=500, width=450, colorbar=False, legend=False)\n",
    "        .relabel(f'Mean Temp (F) > {thresh}')\n",
    "        .redim(value='Temperature (F)'))\n",
    "\n",
    "    return thresholded_temp_p + thresholded_temp_p.options(alpha=.3) * EsriImagery"
   ]
  },
  {
   "cell_type": "code",
   "execution_count": null,
   "metadata": {},
   "outputs": [],
   "source": [
    "threshold"
   ]
  },
  {
   "cell_type": "markdown",
   "metadata": {},
   "source": [
    "There are a few limitations to this approach. For instance, this approach: \n",
    "  1. Recomputes the data every time there is an interaction\n",
    "  2. Re-renders the whole plot every time\n",
    "  2. Depends on a python kernel being present - doesn't work in a static version\n",
    "  \n",
    "### Using color clipping\n",
    "\n",
    "To combat some of these limitations we can use color clipping and some recently developed panel functionality to link interactions using js. \n",
    "\n",
    "We'll start by defining the plot."
   ]
  },
  {
   "cell_type": "code",
   "execution_count": null,
   "metadata": {},
   "outputs": [],
   "source": [
    "p = (mean_temp_f\n",
    "    .hvplot(x='x', y='y', geo=True, height=500, width=550, cmap='rainbow', alpha=.5, legend=False)\n",
    "    .relabel('Mean Surface Temp (F)'))"
   ]
  },
  {
   "cell_type": "markdown",
   "metadata": {},
   "source": [
    "Next we'll set up a clipped colormap that only shows values between an upper and lower bound."
   ]
  },
  {
   "cell_type": "code",
   "execution_count": null,
   "metadata": {},
   "outputs": [],
   "source": [
    "options = opts.Image(clipping_colors={'min': 'transparent', 'max': 'transparent'}, \n",
    "                     cmap=special_cmap)\n",
    "clipped = p.opts(options, clone=True)\n",
    "clipped.redim.range(value=(90, 120))\n",
    "\n",
    "clipped"
   ]
  },
  {
   "cell_type": "markdown",
   "metadata": {},
   "source": [
    "So we've solved the problem of the data being recomputed every time, so now we can add in interaction. "
   ]
  },
  {
   "cell_type": "markdown",
   "metadata": {},
   "source": [
    "### Using JS linking\n",
    "\n",
    "Now we are trying to interact with things that are on the javascript side. So instead of having the interaction happen on the python side, we can have it on the js side. This will make it faster and also allow it to happen *without a python kernel running*."
   ]
  },
  {
   "cell_type": "code",
   "execution_count": null,
   "metadata": {},
   "outputs": [],
   "source": [
    "start, end = (int(mean_temp_f.temperature.min() - 1), \n",
    "              int(mean_temp_f.temperature.max() + 1))\n",
    "\n",
    "slider = pn.widgets.RangeSlider(start=start, end=end, value=(start, end), \n",
    "                                step=1, bar_color='#ff0000')\n",
    "\n",
    "slider.jslink(clipped, code={'value': \"\"\"\n",
    "color_mapper.low = source.value[0];\n",
    "color_mapper.high = source.value[1];\n",
    "\"\"\"})\n",
    "\n",
    "pn.Row(slider, clipped * EsriImagery)"
   ]
  },
  {
   "cell_type": "markdown",
   "metadata": {},
   "source": [
    "### Adding some more interaction\n",
    "\n",
    "To round out the dashboard, we can add a base map selector, an alpha slider, a tree toggle..."
   ]
  },
  {
   "cell_type": "code",
   "execution_count": null,
   "metadata": {},
   "outputs": [],
   "source": [
    "from holoviews.streams import Params\n",
    "\n",
    "import geoviews as gv\n",
    "from geoviews.tile_sources import tile_sources"
   ]
  },
  {
   "cell_type": "code",
   "execution_count": null,
   "metadata": {},
   "outputs": [],
   "source": [
    "slider = pn.widgets.RangeSlider(start=start, end=end, value=(start, end), \n",
    "                                step=1, bar_color='#ff0000')\n",
    "\n",
    "slider.jslink(clipped, code={'value': \"\"\"\n",
    "color_mapper.low = source.value[0];\n",
    "color_mapper.high = source.value[1];\n",
    "\"\"\"})\n",
    "\n",
    "selector = pn.widgets.Select(name='basemap', value=EsriImagery, options=tile_sources)\n",
    "\n",
    "def set_tile_source(value):\n",
    "    return value\n",
    "    \n",
    "dmap = hv.DynamicMap(set_tile_source, streams=[Params(selector, ['value'])])\n",
    "\n",
    "pn.Row(\n",
    "    pn.Column(\n",
    "        slider, \n",
    "        selector),\n",
    "    clipped * dmap)"
   ]
  },
  {
   "cell_type": "markdown",
   "metadata": {},
   "source": [
    "> To Do: Add an alpha slider, toggle off basemap, toggle off trees, change dynspread of trees"
   ]
  },
  {
   "cell_type": "markdown",
   "metadata": {},
   "source": [
    "## Adding in the Street Tree data\n",
    "\n",
    "OpenDataPhilly released an inventory of all the street trees in the city. Street trees are trees that are planted along streets, not those in parks and private property. Using `datashader` we can easily plot these 100,000 points.\n",
    "\n",
    "\n",
    "It is hypothesized that where there are more trees the land surface temperature will be less extreme. To explore this, we will overlay street trees with the thresholded land surface temperature:"
   ]
  },
  {
   "cell_type": "code",
   "execution_count": null,
   "metadata": {},
   "outputs": [],
   "source": [
    "url = 'http://data.phl.opendata.arcgis.com/datasets/957f032f9c874327a1ad800abd887d17_0.geojson'\n",
    "trees = gpd.read_file(url)"
   ]
  },
  {
   "cell_type": "code",
   "execution_count": null,
   "metadata": {},
   "outputs": [],
   "source": [
    "tree_p = trees.hvplot(geo=True, datashade=True, height=500, width=500, \n",
    "                      legend=False, dynspread=30).relabel('Street Tree Density')\n",
    "\n",
    "thresholded_temp_p.options(alpha=.5) * tree_p.options(alpha=.5)"
   ]
  },
  {
   "cell_type": "code",
   "execution_count": null,
   "metadata": {},
   "outputs": [],
   "source": [
    "tree_p = trees.hvplot(geo=True, datashade=True, height=500, width=500, \n",
    "                      legend=False, dynspread=30).relabel('Street Tree Density')"
   ]
  }
 ],
 "metadata": {
  "kernelspec": {
   "display_name": "Python 3",
   "language": "python",
   "name": "python3"
  },
  "language_info": {
   "codemirror_mode": {
    "name": "ipython",
    "version": 3
   },
   "file_extension": ".py",
   "mimetype": "text/x-python",
   "name": "python",
   "nbconvert_exporter": "python",
   "pygments_lexer": "ipython3",
   "version": "3.7.2"
  }
 },
 "nbformat": 4,
 "nbformat_minor": 2
}
