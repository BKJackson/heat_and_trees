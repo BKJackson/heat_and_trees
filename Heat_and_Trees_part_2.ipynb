{
 "cells": [
  {
   "cell_type": "code",
   "execution_count": null,
   "metadata": {},
   "outputs": [],
   "source": [
    "import intake\n",
    "import xarray as xr\n",
    "import pandas as pd\n",
    "import numpy as np\n",
    "import geopandas as gpd\n",
    "\n",
    "import cartopy.crs as ccrs\n",
    "\n",
    "import holoviews as hv\n",
    "import hvplot.xarray\n",
    "import hvplot.pandas\n",
    "\n",
    "from geoviews.tile_sources import EsriImagery\n",
    "\n",
    "hv.extension('bokeh')"
   ]
  },
  {
   "cell_type": "code",
   "execution_count": null,
   "metadata": {},
   "outputs": [],
   "source": [
    "mtf_source = intake.open_zarr('data/mean_temp.zarr')"
   ]
  },
  {
   "cell_type": "code",
   "execution_count": null,
   "metadata": {},
   "outputs": [],
   "source": [
    "mtf = mtf_source.to_dask()\n",
    "mtf.persist()"
   ]
  },
  {
   "cell_type": "code",
   "execution_count": null,
   "metadata": {},
   "outputs": [],
   "source": [
    "from holoviews import opts\n",
    "import panel as pn\n",
    "import colorcet as cc\n",
    "\n",
    "special_cmap = cc.fire[::-1][90:]"
   ]
  },
  {
   "cell_type": "code",
   "execution_count": null,
   "metadata": {},
   "outputs": [],
   "source": [
    "p = (mtf\n",
    "    .hvplot(x='x', y='y', geo=True, height=500, width=550, cmap='rainbow', alpha=.5, legend=False)\n",
    "    .relabel('Mean Surface Temp (F)'))\n",
    "\n",
    "p * EsriImagery"
   ]
  },
  {
   "cell_type": "code",
   "execution_count": null,
   "metadata": {},
   "outputs": [],
   "source": [
    "clipped  = p.opts(opts.Image(clipping_colors={'min': 'transparent', 'max': 'transparent'}, \n",
    "                             cmap=special_cmap),\n",
    "                  clone=True)\n",
    "clipped.redim.range(value=(90,120))"
   ]
  },
  {
   "cell_type": "code",
   "execution_count": null,
   "metadata": {},
   "outputs": [],
   "source": [
    "start, end = int(mtf.temperature.min())-1, int(mtf.temperature.max()+1)\n",
    "slider = pn.widgets.RangeSlider(start=start, end=end, value=(start, end), \n",
    "                                step=1, bar_color='#ff0000')\n",
    "\n",
    "slider.jslink(clipped, code={'value': \"\"\"\n",
    "color_mapper.low = source.value[0];\n",
    "color_mapper.high = source.value[1];\n",
    "console.log(color_mapper);\n",
    "\"\"\"})\n",
    "\n",
    "pn.Row(slider, clipped * EsriImagery)"
   ]
  },
  {
   "cell_type": "code",
   "execution_count": null,
   "metadata": {},
   "outputs": [],
   "source": [
    "import geoviews as gv\n",
    "from geoviews.tile_sources import tile_sources"
   ]
  },
  {
   "cell_type": "code",
   "execution_count": null,
   "metadata": {},
   "outputs": [],
   "source": [
    "tile_source = gv.tile_sources.WMTS(EsriImagery.data)\n",
    "selector = pn.widgets.Select(name='basemap', value=EsriImagery.data, options={k: v.data for k, v in tile_sources.items()})\n",
    "selector.jslink(tile_source, value='glyph.url')\n",
    "\n",
    "pn.Row(selector, clipped * tile_source)"
   ]
  },
  {
   "cell_type": "code",
   "execution_count": null,
   "metadata": {},
   "outputs": [],
   "source": [
    "from holoviews.streams import Params"
   ]
  },
  {
   "cell_type": "code",
   "execution_count": null,
   "metadata": {},
   "outputs": [],
   "source": [
    "start, end = int(mtf.temperature.min())-1, int(mtf.temperature.max()+1)\n",
    "slider = pn.widgets.RangeSlider(start=start, end=end, value=(start, end), \n",
    "                                step=1, bar_color='#ff0000')\n",
    "\n",
    "slider.jslink(clipped, code={'value': \"\"\"\n",
    "color_mapper.low = source.value[0];\n",
    "color_mapper.high = source.value[1];\n",
    "\"\"\"})\n",
    "\n",
    "selector = pn.widgets.Select(name='basemap', value=EsriImagery, options=tile_sources)\n",
    "selector.param.watch(set_tile_source, 'value')\n",
    "\n",
    "def set_tile_source(value):\n",
    "    return value\n",
    "    \n",
    "dmap = hv.DynamicMap(set_tile_source, streams=[Params(selector, ['value'])])\n",
    "\n",
    "pn.Row(\n",
    "    pn.Column(\n",
    "        slider, \n",
    "        selector),\n",
    "    clipped * dmap)"
   ]
  },
  {
   "cell_type": "markdown",
   "metadata": {},
   "source": [
    "> To Do: Add an alpha slider, toggle off basemap, toggle off trees, change dynspread of trees"
   ]
  },
  {
   "cell_type": "markdown",
   "metadata": {},
   "source": [
    "### Pure JS - do not recommend"
   ]
  },
  {
   "cell_type": "code",
   "execution_count": null,
   "metadata": {},
   "outputs": [],
   "source": [
    "tile_source = gv.tile_sources.WMTS(EsriImagery.data)\n",
    "selector = pn.widgets.Select(name='basemap', value=EsriImagery.data, options=[ts.data for ts in tile_sources.values()])\n",
    "selector.jslink(tile_source, value='glyph.url')\n",
    "\n",
    "pn.Row(\n",
    "    pn.Column(selector, slider), \n",
    "    clipped * tile_source)"
   ]
  },
  {
   "cell_type": "markdown",
   "metadata": {},
   "source": [
    "### Other ideas"
   ]
  },
  {
   "cell_type": "code",
   "execution_count": null,
   "metadata": {},
   "outputs": [],
   "source": [
    "hv_obj = hv.Image(np.random.rand(10, 10))\n",
    "\n",
    "low_cpicker = pn.widgets.ColorPicker()\n",
    "high_cpicker = pn.widgets.ColorPicker(value='#ffffff')\n",
    "slider = pn.widgets.RangeSlider(step=0.01)\n",
    "\n",
    "slider.jslink(hv_obj, code={'value': \"\"\"\n",
    "color_mapper.low = source.value[0];\n",
    "color_mapper.high = source.value[1];\n",
    "\"\"\"})\n",
    "\n",
    "low_cpicker.jslink(hv_obj, value='color_mapper.low_color')\n",
    "high_cpicker.jslink(hv_obj, value='color_mapper.high_color')\n",
    "\n",
    "pn.Row(hv_obj, pn.Column(slider, low_cpicker, high_cpicker))"
   ]
  },
  {
   "cell_type": "markdown",
   "metadata": {},
   "source": [
    "## Adding in the Street Tree data\n",
    "\n",
    "OpenDataPhilly released an inventory of all the street trees in the city. Street trees are trees that are planted along streets, not those in parks and private property. Using `datashader` we can easily plot these 100,000 points.\n",
    "\n",
    "\n",
    "It is hypothesized that where there are more trees the land surface temperature will be less extreme. To explore this, we will overlay street trees with the thresholded land surface temperature:"
   ]
  },
  {
   "cell_type": "code",
   "execution_count": null,
   "metadata": {},
   "outputs": [],
   "source": [
    "url = 'http://data.phl.opendata.arcgis.com/datasets/957f032f9c874327a1ad800abd887d17_0.geojson'\n",
    "trees = gpd.read_file(url)"
   ]
  },
  {
   "cell_type": "code",
   "execution_count": null,
   "metadata": {},
   "outputs": [],
   "source": [
    "tree_p = trees.hvplot(geo=True, datashade=True, height=500, width=500, \n",
    "                      legend=False, dynspread=30).relabel('Street Tree Density')\n",
    "\n",
    "thresholded_temp_p.options(alpha=.5) * tree_p.options(alpha=.5)"
   ]
  },
  {
   "cell_type": "code",
   "execution_count": null,
   "metadata": {},
   "outputs": [],
   "source": [
    "tree_p = trees.hvplot(geo=True, datashade=True, height=500, width=500, \n",
    "                      legend=False, dynspread=30).relabel('Street Tree Density')"
   ]
  }
 ],
 "metadata": {
  "language_info": {
   "name": "python",
   "pygments_lexer": "ipython3"
  }
 },
 "nbformat": 4,
 "nbformat_minor": 2
}
