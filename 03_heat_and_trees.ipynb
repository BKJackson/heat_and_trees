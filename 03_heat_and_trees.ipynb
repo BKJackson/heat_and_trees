{
 "cells": [
  {
   "cell_type": "markdown",
   "metadata": {},
   "source": [
    "## Panel - Interacting with the visual\n",
    "\n",
    "In the [heat notebook](01_heat.ipynb) we generated a visual of the thresholded surface temperature over Philadelphia. This plot is rendered with bokeh and uses a running python kernel to resample the data when zooming in and out. But what if we want to allow the user to set their own threshold. To enable this kind of interactivity we'll use [panel](https://panel.pyviz.org)."
   ]
  },
  {
   "cell_type": "code",
   "execution_count": null,
   "metadata": {},
   "outputs": [],
   "source": [
    "import intake\n",
    "import pandas as pd\n",
    "\n",
    "import holoviews as hv\n",
    "from holoviews import opts\n",
    "import hvplot.xarray\n",
    "import hvplot.pandas\n",
    "\n",
    "import panel as pn\n",
    "\n",
    "from geoviews.tile_sources import EsriImagery\n",
    "\n",
    "hv.extension('bokeh')"
   ]
  },
  {
   "cell_type": "markdown",
   "metadata": {},
   "source": [
    "### Load the data\n",
    "\n",
    "First load in the data that we computed and saved in the previous notebook. "
   ]
  },
  {
   "cell_type": "code",
   "execution_count": null,
   "metadata": {},
   "outputs": [],
   "source": [
    "mtf_source = intake.open_zarr('./data/mean_temp.zarr')\n",
    "mean_temp_f = mtf_source.read()\n",
    "mean_temp_f"
   ]
  },
  {
   "cell_type": "code",
   "execution_count": null,
   "metadata": {},
   "outputs": [],
   "source": [
    "trees_df = pd.read_parquet('./data/trees.parq')\n",
    "trees_df.head()"
   ]
  },
  {
   "cell_type": "markdown",
   "metadata": {},
   "source": [
    "Make the same special colormap:"
   ]
  },
  {
   "cell_type": "code",
   "execution_count": null,
   "metadata": {},
   "outputs": [],
   "source": [
    "import colorcet as cc\n",
    "special_cmap = cc.fire[::-1][90:]"
   ]
  },
  {
   "cell_type": "markdown",
   "metadata": {},
   "source": [
    "### Use panel.interact\n",
    "\n",
    "Write a function that generates the thresholded plot and takes the temperature at which to threshold as an argument. Use the `pn.interact` decorator to \"widgetize\" the function. "
   ]
  },
  {
   "cell_type": "code",
   "execution_count": null,
   "metadata": {},
   "outputs": [],
   "source": [
    "@pn.interact(thresh=(70, 100))\n",
    "def threshold(thresh=90):\n",
    "    thresholded_temp_p = (mean_temp_f.where(mean_temp_f.temperature > thresh)\n",
    "        .hvplot(x='x', y='y', z='temperature', cmap=special_cmap, geo=True, \n",
    "                height=500, width=500, colorbar=False, legend=False)\n",
    "        .relabel(f'Mean Temp (F) > {thresh}')\n",
    "        .redim(value='Temperature (F)'))\n",
    "\n",
    "    return thresholded_temp_p.options(alpha=0.5) * EsriImagery"
   ]
  },
  {
   "cell_type": "code",
   "execution_count": null,
   "metadata": {},
   "outputs": [],
   "source": [
    "threshold"
   ]
  },
  {
   "cell_type": "markdown",
   "metadata": {},
   "source": [
    "There are a few limitations to this approach. For instance, on each interaction we: \n",
    "  1. Recompute the data \n",
    "  2. Re-render the whole plot\n",
    "  2. Call out to the python kernel (doesn't work in a static version)\n",
    "  \n",
    "### Using color clipping\n",
    "\n",
    "To combat some of these limitations we can use color clipping and some recently developed panel functionality to link interactions using js. \n",
    "\n",
    "We'll start by defining the plot."
   ]
  },
  {
   "cell_type": "code",
   "execution_count": null,
   "metadata": {},
   "outputs": [],
   "source": [
    "p = (mean_temp_f.hvplot(x='x', y='y', geo=True, height=500, width=550, \n",
    "                        cmap=special_cmap, alpha=.5, legend=False)\n",
    "                .relabel('Mean Surface Temp (F)'))"
   ]
  },
  {
   "cell_type": "markdown",
   "metadata": {},
   "source": [
    "Next we'll set up a clipped colormap that only shows values between an upper and lower bound."
   ]
  },
  {
   "cell_type": "code",
   "execution_count": null,
   "metadata": {},
   "outputs": [],
   "source": [
    "options = opts.Image(clipping_colors={'min': 'transparent', 'max': 'transparent'}, \n",
    "                     cmap=special_cmap)\n",
    "clipped = p.opts(options, clone=True)\n",
    "clipped.redim.range(temperature=(90, 120)) * EsriImagery"
   ]
  },
  {
   "cell_type": "markdown",
   "metadata": {},
   "source": [
    "So we've solved the problem of the data being recomputed every time. Now we can add in interaction. "
   ]
  },
  {
   "cell_type": "markdown",
   "metadata": {},
   "source": [
    "### Using JS linking\n",
    "\n",
    "Now we are trying to interact with things that are on the javascript side. So instead of having the interaction happen on the python side, we can have it on the js side. This will make it faster and also allow it to happen *without a python kernel running*."
   ]
  },
  {
   "cell_type": "code",
   "execution_count": null,
   "metadata": {},
   "outputs": [],
   "source": [
    "start, end = (int(mean_temp_f.temperature.min() - 1), \n",
    "              int(mean_temp_f.temperature.max() + 1))\n",
    "\n",
    "thresh_slider = pn.widgets.RangeSlider(start=start, end=end, value=(start, end), \n",
    "                                       step=1, bar_color='#ff0000',\n",
    "                                       name='Temperature range')\n",
    "\n",
    "thresh_slider.jslink(clipped, code={'value': \"\"\"\n",
    "color_mapper.low = source.value[0];\n",
    "color_mapper.high = source.value[1];\n",
    "\"\"\"})\n",
    "\n",
    "pn.Row(thresh_slider, clipped * EsriImagery)"
   ]
  },
  {
   "cell_type": "markdown",
   "metadata": {},
   "source": [
    "### Adding in trees\n",
    "\n",
    "It is hypothesized that where there are more trees the land surface temperature will be less extreme. To explore this, we will overlay street trees with the thresholded land surface temperature:"
   ]
  },
  {
   "cell_type": "code",
   "execution_count": null,
   "metadata": {},
   "outputs": [],
   "source": [
    "trees_p = trees_df.hvplot.points('Longitude', 'Latitude', \n",
    "                                geo=True, datashade=True, \n",
    "                                height=500, width=500, \n",
    "                                dynspread=True, cmap=cc.kgy[::-1],\n",
    "                                legend=False).relabel('Street Tree Density')"
   ]
  },
  {
   "cell_type": "markdown",
   "metadata": {},
   "source": [
    "### Turn tree layer on and off\n",
    "\n",
    "It'd be nice to be able to turn the tree layer on and off using a toggle button."
   ]
  },
  {
   "cell_type": "code",
   "execution_count": null,
   "metadata": {},
   "outputs": [],
   "source": [
    "trees_toggle = pn.widgets.Toggle(name='Tree Layer', value=True)\n",
    "trees_toggle.jslink(trees_p, value='glyph_renderer.visible')\n",
    "\n",
    "pn.Row(trees_toggle, trees_p)"
   ]
  },
  {
   "cell_type": "markdown",
   "metadata": {},
   "source": [
    "### Adding some more interaction\n",
    "\n",
    "To round out the dashboard, we can add a base map selector, an temperature alpha slider, a tree alpha slider... "
   ]
  },
  {
   "cell_type": "code",
   "execution_count": null,
   "metadata": {},
   "outputs": [],
   "source": [
    "from holoviews.streams import Params\n",
    "\n",
    "import geoviews as gv\n",
    "from geoviews.tile_sources import tile_sources"
   ]
  },
  {
   "cell_type": "code",
   "execution_count": null,
   "metadata": {},
   "outputs": [],
   "source": [
    "temp_alpha_slider = pn.widgets.FloatSlider(\n",
    "    start=0, end=1, value=.5, name='Temperature alpha')\n",
    "temp_alpha_slider.jslink(clipped, value='glyph.global_alpha')\n",
    "\n",
    "trees_alpha_slider = pn.widgets.FloatSlider(\n",
    "    start=0, end=1, value=.7, name='Trees alpha')\n",
    "trees_alpha_slider.jslink(trees_p, value='glyph.global_alpha')\n",
    "\n",
    "basemap_selector = pn.widgets.Select(name='Tiling Service', value=EsriImagery, options=tile_sources)\n",
    "\n",
    "def set_tile_source(value):\n",
    "    return value\n",
    "    \n",
    "dmap = hv.DynamicMap(set_tile_source, streams=[Params(basemap_selector, ['value'])])\n",
    "\n",
    "dashboard = pn.Row(\n",
    "    pn.Column(\n",
    "        '# Heat and Trees',\n",
    "        thresh_slider, \n",
    "        temp_alpha_slider,\n",
    "        basemap_selector,\n",
    "        trees_toggle,\n",
    "        trees_alpha_slider),\n",
    "    clipped * trees_p * dmap \n",
    ")"
   ]
  },
  {
   "cell_type": "markdown",
   "metadata": {},
   "source": [
    "### Deploy\n",
    "\n",
    "To deploy the dashboard just call the `.servable()` method on the panel object. Then use:\n",
    "\n",
    "```\n",
    "panel serve --show Heat_and_Trees_part_2.ipynb\n",
    "```"
   ]
  },
  {
   "cell_type": "code",
   "execution_count": null,
   "metadata": {},
   "outputs": [],
   "source": [
    "dashboard.servable()"
   ]
  },
  {
   "cell_type": "markdown",
   "metadata": {},
   "source": [
    "### Embed\n",
    "\n",
    "To embed the image in a static website, we need to run through all the python interactions and save off the possible states. Panel provides a mechanism to do this using `embed`. When you call this method, the plot will run through every combination of the options making some decisions about step to reduce the number of combinations. As an example we can first do a simple save:"
   ]
  },
  {
   "cell_type": "code",
   "execution_count": null,
   "metadata": {},
   "outputs": [],
   "source": [
    "dashboard.save('only_js.html')"
   ]
  },
  {
   "cell_type": "markdown",
   "metadata": {},
   "source": [
    "A lot of the dashboard works in that version. The only part that doesn't is the tile selector. For that we need a python kernel OR embedded output."
   ]
  },
  {
   "cell_type": "code",
   "execution_count": null,
   "metadata": {},
   "outputs": [],
   "source": [
    "dashboard.save('index.html', title='Heat and Trees', embed=True)"
   ]
  }
 ],
 "metadata": {
  "kernelspec": {
   "display_name": "Python 3",
   "language": "python",
   "name": "python3"
  },
  "language_info": {
   "codemirror_mode": {
    "name": "ipython",
    "version": 3
   },
   "file_extension": ".py",
   "mimetype": "text/x-python",
   "name": "python",
   "nbconvert_exporter": "python",
   "pygments_lexer": "ipython3",
   "version": "3.7.2"
  }
 },
 "nbformat": 4,
 "nbformat_minor": 2
}
